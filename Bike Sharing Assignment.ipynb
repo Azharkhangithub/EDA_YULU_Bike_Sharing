{
 "cells": [
  {
   "cell_type": "code",
   "execution_count": 158,
   "id": "34654fef",
   "metadata": {},
   "outputs": [],
   "source": [
    "import pandas as pd\n",
    "from IPython.display import HTML\n",
    "import math"
   ]
  },
  {
   "cell_type": "markdown",
   "id": "844a91cb",
   "metadata": {},
   "source": [
    "## Reading all CSV files with Pandas"
   ]
  },
  {
   "cell_type": "code",
   "execution_count": 3,
   "id": "f147228b",
   "metadata": {},
   "outputs": [
    {
     "data": {
      "text/html": [
       "<div>\n",
       "<style scoped>\n",
       "    .dataframe tbody tr th:only-of-type {\n",
       "        vertical-align: middle;\n",
       "    }\n",
       "\n",
       "    .dataframe tbody tr th {\n",
       "        vertical-align: top;\n",
       "    }\n",
       "\n",
       "    .dataframe thead th {\n",
       "        text-align: right;\n",
       "    }\n",
       "</style>\n",
       "<table border=\"1\" class=\"dataframe\">\n",
       "  <thead>\n",
       "    <tr style=\"text-align: right;\">\n",
       "      <th></th>\n",
       "      <th>id</th>\n",
       "      <th>duration</th>\n",
       "      <th>start_date</th>\n",
       "      <th>start_station_name</th>\n",
       "      <th>start_station_id</th>\n",
       "      <th>end_date</th>\n",
       "      <th>end_station_name</th>\n",
       "      <th>end_station_id</th>\n",
       "      <th>bike_id</th>\n",
       "      <th>subscription_type</th>\n",
       "      <th>zip_code</th>\n",
       "    </tr>\n",
       "  </thead>\n",
       "  <tbody>\n",
       "    <tr>\n",
       "      <th>0</th>\n",
       "      <td>4576</td>\n",
       "      <td>63</td>\n",
       "      <td>8/29/2013 14:13</td>\n",
       "      <td>South Van Ness at Market</td>\n",
       "      <td>66</td>\n",
       "      <td>8/29/2013 14:14</td>\n",
       "      <td>South Van Ness at Market</td>\n",
       "      <td>66</td>\n",
       "      <td>520</td>\n",
       "      <td>Subscriber</td>\n",
       "      <td>94127</td>\n",
       "    </tr>\n",
       "    <tr>\n",
       "      <th>1</th>\n",
       "      <td>4607</td>\n",
       "      <td>70</td>\n",
       "      <td>8/29/2013 14:42</td>\n",
       "      <td>San Jose City Hall</td>\n",
       "      <td>10</td>\n",
       "      <td>8/29/2013 14:43</td>\n",
       "      <td>San Jose City Hall</td>\n",
       "      <td>10</td>\n",
       "      <td>661</td>\n",
       "      <td>Subscriber</td>\n",
       "      <td>95138</td>\n",
       "    </tr>\n",
       "    <tr>\n",
       "      <th>2</th>\n",
       "      <td>4130</td>\n",
       "      <td>71</td>\n",
       "      <td>8/29/2013 10:16</td>\n",
       "      <td>Mountain View City Hall</td>\n",
       "      <td>27</td>\n",
       "      <td>8/29/2013 10:17</td>\n",
       "      <td>Mountain View City Hall</td>\n",
       "      <td>27</td>\n",
       "      <td>48</td>\n",
       "      <td>Subscriber</td>\n",
       "      <td>97214</td>\n",
       "    </tr>\n",
       "    <tr>\n",
       "      <th>3</th>\n",
       "      <td>4251</td>\n",
       "      <td>77</td>\n",
       "      <td>8/29/2013 11:29</td>\n",
       "      <td>San Jose City Hall</td>\n",
       "      <td>10</td>\n",
       "      <td>8/29/2013 11:30</td>\n",
       "      <td>San Jose City Hall</td>\n",
       "      <td>10</td>\n",
       "      <td>26</td>\n",
       "      <td>Subscriber</td>\n",
       "      <td>95060</td>\n",
       "    </tr>\n",
       "    <tr>\n",
       "      <th>4</th>\n",
       "      <td>4299</td>\n",
       "      <td>83</td>\n",
       "      <td>8/29/2013 12:02</td>\n",
       "      <td>South Van Ness at Market</td>\n",
       "      <td>66</td>\n",
       "      <td>8/29/2013 12:04</td>\n",
       "      <td>Market at 10th</td>\n",
       "      <td>67</td>\n",
       "      <td>319</td>\n",
       "      <td>Subscriber</td>\n",
       "      <td>94103</td>\n",
       "    </tr>\n",
       "  </tbody>\n",
       "</table>\n",
       "</div>"
      ],
      "text/plain": [
       "     id  duration       start_date        start_station_name  \\\n",
       "0  4576        63  8/29/2013 14:13  South Van Ness at Market   \n",
       "1  4607        70  8/29/2013 14:42        San Jose City Hall   \n",
       "2  4130        71  8/29/2013 10:16   Mountain View City Hall   \n",
       "3  4251        77  8/29/2013 11:29        San Jose City Hall   \n",
       "4  4299        83  8/29/2013 12:02  South Van Ness at Market   \n",
       "\n",
       "   start_station_id         end_date          end_station_name  \\\n",
       "0                66  8/29/2013 14:14  South Van Ness at Market   \n",
       "1                10  8/29/2013 14:43        San Jose City Hall   \n",
       "2                27  8/29/2013 10:17   Mountain View City Hall   \n",
       "3                10  8/29/2013 11:30        San Jose City Hall   \n",
       "4                66  8/29/2013 12:04            Market at 10th   \n",
       "\n",
       "   end_station_id  bike_id subscription_type zip_code  \n",
       "0              66      520        Subscriber    94127  \n",
       "1              10      661        Subscriber    95138  \n",
       "2              27       48        Subscriber    97214  \n",
       "3              10       26        Subscriber    95060  \n",
       "4              67      319        Subscriber    94103  "
      ]
     },
     "execution_count": 3,
     "metadata": {},
     "output_type": "execute_result"
    }
   ],
   "source": [
    "Trip = pd.read_csv(\"trip.csv\")\n",
    "Trip.head()"
   ]
  },
  {
   "cell_type": "code",
   "execution_count": 4,
   "id": "bfad3efd",
   "metadata": {},
   "outputs": [
    {
     "data": {
      "text/html": [
       "<div>\n",
       "<style scoped>\n",
       "    .dataframe tbody tr th:only-of-type {\n",
       "        vertical-align: middle;\n",
       "    }\n",
       "\n",
       "    .dataframe tbody tr th {\n",
       "        vertical-align: top;\n",
       "    }\n",
       "\n",
       "    .dataframe thead th {\n",
       "        text-align: right;\n",
       "    }\n",
       "</style>\n",
       "<table border=\"1\" class=\"dataframe\">\n",
       "  <thead>\n",
       "    <tr style=\"text-align: right;\">\n",
       "      <th></th>\n",
       "      <th>Unnamed: 0</th>\n",
       "      <th>date</th>\n",
       "      <th>mean_temperature_f</th>\n",
       "      <th>mean_humidity</th>\n",
       "      <th>mean_dew_point_f</th>\n",
       "      <th>mean_wind_speed_mph</th>\n",
       "      <th>zip_code</th>\n",
       "    </tr>\n",
       "  </thead>\n",
       "  <tbody>\n",
       "    <tr>\n",
       "      <th>0</th>\n",
       "      <td>0</td>\n",
       "      <td>8/29/2013</td>\n",
       "      <td>68.0</td>\n",
       "      <td>75.0</td>\n",
       "      <td>58.0</td>\n",
       "      <td>11.0</td>\n",
       "      <td>94107</td>\n",
       "    </tr>\n",
       "    <tr>\n",
       "      <th>1</th>\n",
       "      <td>1</td>\n",
       "      <td>8/30/2013</td>\n",
       "      <td>69.0</td>\n",
       "      <td>70.0</td>\n",
       "      <td>58.0</td>\n",
       "      <td>13.0</td>\n",
       "      <td>94107</td>\n",
       "    </tr>\n",
       "    <tr>\n",
       "      <th>2</th>\n",
       "      <td>2</td>\n",
       "      <td>8/31/2013</td>\n",
       "      <td>64.0</td>\n",
       "      <td>75.0</td>\n",
       "      <td>56.0</td>\n",
       "      <td>15.0</td>\n",
       "      <td>94107</td>\n",
       "    </tr>\n",
       "    <tr>\n",
       "      <th>3</th>\n",
       "      <td>3</td>\n",
       "      <td>9/1/2013</td>\n",
       "      <td>66.0</td>\n",
       "      <td>68.0</td>\n",
       "      <td>56.0</td>\n",
       "      <td>13.0</td>\n",
       "      <td>94107</td>\n",
       "    </tr>\n",
       "    <tr>\n",
       "      <th>4</th>\n",
       "      <td>4</td>\n",
       "      <td>9/2/2013</td>\n",
       "      <td>69.0</td>\n",
       "      <td>77.0</td>\n",
       "      <td>60.0</td>\n",
       "      <td>12.0</td>\n",
       "      <td>94107</td>\n",
       "    </tr>\n",
       "  </tbody>\n",
       "</table>\n",
       "</div>"
      ],
      "text/plain": [
       "   Unnamed: 0       date  mean_temperature_f  mean_humidity  mean_dew_point_f  \\\n",
       "0           0  8/29/2013                68.0           75.0              58.0   \n",
       "1           1  8/30/2013                69.0           70.0              58.0   \n",
       "2           2  8/31/2013                64.0           75.0              56.0   \n",
       "3           3   9/1/2013                66.0           68.0              56.0   \n",
       "4           4   9/2/2013                69.0           77.0              60.0   \n",
       "\n",
       "   mean_wind_speed_mph  zip_code  \n",
       "0                 11.0     94107  \n",
       "1                 13.0     94107  \n",
       "2                 15.0     94107  \n",
       "3                 13.0     94107  \n",
       "4                 12.0     94107  "
      ]
     },
     "execution_count": 4,
     "metadata": {},
     "output_type": "execute_result"
    }
   ],
   "source": [
    "Weather = pd.read_csv(\"weather.csv\")\n",
    "Weather.head()"
   ]
  },
  {
   "cell_type": "code",
   "execution_count": 5,
   "id": "4da7b9d9",
   "metadata": {},
   "outputs": [
    {
     "data": {
      "text/html": [
       "<div>\n",
       "<style scoped>\n",
       "    .dataframe tbody tr th:only-of-type {\n",
       "        vertical-align: middle;\n",
       "    }\n",
       "\n",
       "    .dataframe tbody tr th {\n",
       "        vertical-align: top;\n",
       "    }\n",
       "\n",
       "    .dataframe thead th {\n",
       "        text-align: right;\n",
       "    }\n",
       "</style>\n",
       "<table border=\"1\" class=\"dataframe\">\n",
       "  <thead>\n",
       "    <tr style=\"text-align: right;\">\n",
       "      <th></th>\n",
       "      <th>id</th>\n",
       "      <th>name</th>\n",
       "      <th>lat</th>\n",
       "      <th>long</th>\n",
       "      <th>dock_count</th>\n",
       "      <th>city</th>\n",
       "      <th>installation_date</th>\n",
       "    </tr>\n",
       "  </thead>\n",
       "  <tbody>\n",
       "    <tr>\n",
       "      <th>0</th>\n",
       "      <td>2</td>\n",
       "      <td>San Jose Diridon Caltrain Station</td>\n",
       "      <td>37.329732</td>\n",
       "      <td>-121.901782</td>\n",
       "      <td>27</td>\n",
       "      <td>San Jose</td>\n",
       "      <td>8/6/2013</td>\n",
       "    </tr>\n",
       "    <tr>\n",
       "      <th>1</th>\n",
       "      <td>3</td>\n",
       "      <td>San Jose Civic Center</td>\n",
       "      <td>37.330698</td>\n",
       "      <td>-121.888979</td>\n",
       "      <td>15</td>\n",
       "      <td>San Jose</td>\n",
       "      <td>8/5/2013</td>\n",
       "    </tr>\n",
       "    <tr>\n",
       "      <th>2</th>\n",
       "      <td>4</td>\n",
       "      <td>Santa Clara at Almaden</td>\n",
       "      <td>37.333988</td>\n",
       "      <td>-121.894902</td>\n",
       "      <td>11</td>\n",
       "      <td>San Jose</td>\n",
       "      <td>8/6/2013</td>\n",
       "    </tr>\n",
       "    <tr>\n",
       "      <th>3</th>\n",
       "      <td>5</td>\n",
       "      <td>Adobe on Almaden</td>\n",
       "      <td>37.331415</td>\n",
       "      <td>-121.893200</td>\n",
       "      <td>19</td>\n",
       "      <td>San Jose</td>\n",
       "      <td>8/5/2013</td>\n",
       "    </tr>\n",
       "    <tr>\n",
       "      <th>4</th>\n",
       "      <td>6</td>\n",
       "      <td>San Pedro Square</td>\n",
       "      <td>37.336721</td>\n",
       "      <td>-121.894074</td>\n",
       "      <td>15</td>\n",
       "      <td>San Jose</td>\n",
       "      <td>8/7/2013</td>\n",
       "    </tr>\n",
       "  </tbody>\n",
       "</table>\n",
       "</div>"
      ],
      "text/plain": [
       "   id                               name        lat        long  dock_count  \\\n",
       "0   2  San Jose Diridon Caltrain Station  37.329732 -121.901782          27   \n",
       "1   3              San Jose Civic Center  37.330698 -121.888979          15   \n",
       "2   4             Santa Clara at Almaden  37.333988 -121.894902          11   \n",
       "3   5                   Adobe on Almaden  37.331415 -121.893200          19   \n",
       "4   6                   San Pedro Square  37.336721 -121.894074          15   \n",
       "\n",
       "       city installation_date  \n",
       "0  San Jose          8/6/2013  \n",
       "1  San Jose          8/5/2013  \n",
       "2  San Jose          8/6/2013  \n",
       "3  San Jose          8/5/2013  \n",
       "4  San Jose          8/7/2013  "
      ]
     },
     "execution_count": 5,
     "metadata": {},
     "output_type": "execute_result"
    }
   ],
   "source": [
    "Station = pd.read_csv(\"station.csv\")\n",
    "Station.head()"
   ]
  },
  {
   "cell_type": "code",
   "execution_count": 6,
   "id": "2aac48f8",
   "metadata": {},
   "outputs": [
    {
     "data": {
      "text/html": [
       "<div>\n",
       "<style scoped>\n",
       "    .dataframe tbody tr th:only-of-type {\n",
       "        vertical-align: middle;\n",
       "    }\n",
       "\n",
       "    .dataframe tbody tr th {\n",
       "        vertical-align: top;\n",
       "    }\n",
       "\n",
       "    .dataframe thead th {\n",
       "        text-align: right;\n",
       "    }\n",
       "</style>\n",
       "<table border=\"1\" class=\"dataframe\">\n",
       "  <thead>\n",
       "    <tr style=\"text-align: right;\">\n",
       "      <th></th>\n",
       "      <th>station_id</th>\n",
       "      <th>bikes_available</th>\n",
       "      <th>docks_available</th>\n",
       "      <th>time</th>\n",
       "    </tr>\n",
       "  </thead>\n",
       "  <tbody>\n",
       "    <tr>\n",
       "      <th>0</th>\n",
       "      <td>2</td>\n",
       "      <td>2</td>\n",
       "      <td>25</td>\n",
       "      <td>2013/08/29 12:06:01</td>\n",
       "    </tr>\n",
       "    <tr>\n",
       "      <th>1</th>\n",
       "      <td>2</td>\n",
       "      <td>2</td>\n",
       "      <td>25</td>\n",
       "      <td>2013/08/29 12:07:01</td>\n",
       "    </tr>\n",
       "    <tr>\n",
       "      <th>2</th>\n",
       "      <td>2</td>\n",
       "      <td>2</td>\n",
       "      <td>25</td>\n",
       "      <td>2013/08/29 12:08:01</td>\n",
       "    </tr>\n",
       "    <tr>\n",
       "      <th>3</th>\n",
       "      <td>2</td>\n",
       "      <td>2</td>\n",
       "      <td>25</td>\n",
       "      <td>2013/08/29 12:09:01</td>\n",
       "    </tr>\n",
       "    <tr>\n",
       "      <th>4</th>\n",
       "      <td>2</td>\n",
       "      <td>2</td>\n",
       "      <td>25</td>\n",
       "      <td>2013/08/29 12:10:01</td>\n",
       "    </tr>\n",
       "  </tbody>\n",
       "</table>\n",
       "</div>"
      ],
      "text/plain": [
       "   station_id  bikes_available  docks_available                 time\n",
       "0           2                2               25  2013/08/29 12:06:01\n",
       "1           2                2               25  2013/08/29 12:07:01\n",
       "2           2                2               25  2013/08/29 12:08:01\n",
       "3           2                2               25  2013/08/29 12:09:01\n",
       "4           2                2               25  2013/08/29 12:10:01"
      ]
     },
     "execution_count": 6,
     "metadata": {},
     "output_type": "execute_result"
    }
   ],
   "source": [
    "Status = pd.read_csv(\"status.csv\")\n",
    "Status.head()"
   ]
  },
  {
   "cell_type": "markdown",
   "id": "b1811185",
   "metadata": {},
   "source": [
    "## Creating DataBase & Tables"
   ]
  },
  {
   "cell_type": "code",
   "execution_count": 207,
   "id": "8d0351ad",
   "metadata": {},
   "outputs": [],
   "source": [
    "import sqlite3"
   ]
  },
  {
   "cell_type": "code",
   "execution_count": 206,
   "id": "6318fd1b",
   "metadata": {},
   "outputs": [],
   "source": [
    "conn = sqlite3.connect(\"Yulu.db\")\n",
    "cur = conn.cursor()"
   ]
  },
  {
   "cell_type": "code",
   "execution_count": 9,
   "id": "01e7cff5",
   "metadata": {},
   "outputs": [],
   "source": [
    "# Create Trip table\n",
    "Trip.to_sql(\"Trip\", conn, if_exists=\"replace\", index=False)"
   ]
  },
  {
   "cell_type": "code",
   "execution_count": 10,
   "id": "483ed929",
   "metadata": {},
   "outputs": [
    {
     "name": "stderr",
     "output_type": "stream",
     "text": [
      "C:\\Users\\ark14\\anaconda3\\lib\\site-packages\\pandas\\core\\generic.py:2779: UserWarning: The spaces in these column names will not be changed. In pandas versions < 0.14, spaces were converted to underscores.\n",
      "  sql.to_sql(\n"
     ]
    }
   ],
   "source": [
    "# Create Weather table\n",
    "Weather.to_sql(\"Weather\", conn, if_exists=\"replace\", index=False)"
   ]
  },
  {
   "cell_type": "code",
   "execution_count": 11,
   "id": "094535d6",
   "metadata": {},
   "outputs": [],
   "source": [
    "# Create Station table\n",
    "Station.to_sql(\"Station\", conn, if_exists=\"replace\", index=False)"
   ]
  },
  {
   "cell_type": "code",
   "execution_count": 12,
   "id": "5656ba4e",
   "metadata": {},
   "outputs": [],
   "source": [
    "# Create Status table\n",
    "Status.to_sql(\"Status\", conn, if_exists=\"replace\", index=False)"
   ]
  },
  {
   "cell_type": "markdown",
   "id": "a41fdd1c",
   "metadata": {},
   "source": [
    "# Task 1: Get to Know Your Company\n",
    "\n",
    "## Q1.What are the total numbers of:"
   ]
  },
  {
   "cell_type": "markdown",
   "id": "40a11f00",
   "metadata": {},
   "source": [
    "### Q1.1 Bike stations?"
   ]
  },
  {
   "cell_type": "code",
   "execution_count": 82,
   "id": "e84927b8",
   "metadata": {},
   "outputs": [
    {
     "data": {
      "text/html": [
       "<table border=\"1\" class=\"dataframe\">\n",
       "  <thead>\n",
       "    <tr style=\"text-align: right;\">\n",
       "      <th>total_stations</th>\n",
       "    </tr>\n",
       "  </thead>\n",
       "  <tbody>\n",
       "    <tr>\n",
       "      <td>70</td>\n",
       "    </tr>\n",
       "  </tbody>\n",
       "</table>"
      ],
      "text/plain": [
       "<IPython.core.display.HTML object>"
      ]
     },
     "execution_count": 82,
     "metadata": {},
     "output_type": "execute_result"
    }
   ],
   "source": [
    "Total_stations = pd.read_sql_query(\"SELECT COUNT(id) as total_stations FROM Station\",conn)\n",
    "HTML(Total_stations.to_html(index=False))"
   ]
  },
  {
   "cell_type": "markdown",
   "id": "dc1eb147",
   "metadata": {},
   "source": [
    "### Q1.2. Bikes?"
   ]
  },
  {
   "cell_type": "code",
   "execution_count": 83,
   "id": "6c14803b",
   "metadata": {},
   "outputs": [
    {
     "data": {
      "text/html": [
       "<div>\n",
       "<style scoped>\n",
       "    .dataframe tbody tr th:only-of-type {\n",
       "        vertical-align: middle;\n",
       "    }\n",
       "\n",
       "    .dataframe tbody tr th {\n",
       "        vertical-align: top;\n",
       "    }\n",
       "\n",
       "    .dataframe thead th {\n",
       "        text-align: right;\n",
       "    }\n",
       "</style>\n",
       "<table border=\"1\" class=\"dataframe\">\n",
       "  <thead>\n",
       "    <tr style=\"text-align: right;\">\n",
       "      <th></th>\n",
       "      <th>total_bikes</th>\n",
       "    </tr>\n",
       "  </thead>\n",
       "  <tbody>\n",
       "    <tr>\n",
       "      <th>0</th>\n",
       "      <td>700</td>\n",
       "    </tr>\n",
       "  </tbody>\n",
       "</table>\n",
       "</div>"
      ],
      "text/plain": [
       "   total_bikes\n",
       "0          700"
      ]
     },
     "metadata": {},
     "output_type": "display_data"
    },
    {
     "data": {
      "text/html": [
       "<table border=\"1\" class=\"dataframe\">\n",
       "  <thead>\n",
       "    <tr style=\"text-align: right;\">\n",
       "      <th>total_bikes</th>\n",
       "    </tr>\n",
       "  </thead>\n",
       "  <tbody>\n",
       "    <tr>\n",
       "      <td>700</td>\n",
       "    </tr>\n",
       "  </tbody>\n",
       "</table>"
      ],
      "text/plain": [
       "<IPython.core.display.HTML object>"
      ]
     },
     "execution_count": 83,
     "metadata": {},
     "output_type": "execute_result"
    }
   ],
   "source": [
    "Total_bikes = pd.read_sql_query(\"SELECT COUNT(distinct(bike_id)) as total_bikes FROM Trip\",conn)\n",
    "HTML(Total_bikes.to_html(index=False))"
   ]
  },
  {
   "cell_type": "markdown",
   "id": "2ad456f7",
   "metadata": {},
   "source": [
    "### Q1.3 Trips?"
   ]
  },
  {
   "cell_type": "code",
   "execution_count": 85,
   "id": "ac5e5762",
   "metadata": {},
   "outputs": [
    {
     "data": {
      "text/html": [
       "<table border=\"1\" class=\"dataframe\">\n",
       "  <thead>\n",
       "    <tr style=\"text-align: right;\">\n",
       "      <th>total_bikes</th>\n",
       "    </tr>\n",
       "  </thead>\n",
       "  <tbody>\n",
       "    <tr>\n",
       "      <td>669959</td>\n",
       "    </tr>\n",
       "  </tbody>\n",
       "</table>"
      ],
      "text/plain": [
       "<IPython.core.display.HTML object>"
      ]
     },
     "execution_count": 85,
     "metadata": {},
     "output_type": "execute_result"
    }
   ],
   "source": [
    "Total_trips = pd.read_sql_query(\"SELECT COUNT(*) as total_bikes FROM Trip\",conn)\n",
    "HTML(Total_trips.to_html(index=False))"
   ]
  },
  {
   "cell_type": "markdown",
   "id": "0a57bad2",
   "metadata": {},
   "source": [
    "### Question 1.4\n",
    "\n",
    "### Please refer Tableau file shared"
   ]
  },
  {
   "cell_type": "markdown",
   "id": "dd254489",
   "metadata": {},
   "source": [
    "## Question 3: What is the relationship between the following columns (one to one, many to one, many to many)?\n",
    "\n"
   ]
  },
  {
   "cell_type": "markdown",
   "id": "1b1926aa",
   "metadata": {},
   "source": [
    "### Question 3.1 bike_id (Trip table) and start_station_id (Trip table)\n",
    "### Answer: Many to many relationship i.e as seen in the below results multiple bike_id's are associated to multiple start_station_id"
   ]
  },
  {
   "cell_type": "code",
   "execution_count": 93,
   "id": "f47478c6",
   "metadata": {},
   "outputs": [
    {
     "data": {
      "text/html": [
       "<table border=\"1\" class=\"dataframe\">\n",
       "  <thead>\n",
       "    <tr style=\"text-align: right;\">\n",
       "      <th>bike_id</th>\n",
       "      <th>Totalstart_station_id</th>\n",
       "    </tr>\n",
       "  </thead>\n",
       "  <tbody>\n",
       "    <tr>\n",
       "      <td>876</td>\n",
       "      <td>5</td>\n",
       "    </tr>\n",
       "    <tr>\n",
       "      <td>323</td>\n",
       "      <td>10</td>\n",
       "    </tr>\n",
       "    <tr>\n",
       "      <td>697</td>\n",
       "      <td>10</td>\n",
       "    </tr>\n",
       "  </tbody>\n",
       "</table>"
      ],
      "text/plain": [
       "<IPython.core.display.HTML object>"
      ]
     },
     "execution_count": 93,
     "metadata": {},
     "output_type": "execute_result"
    }
   ],
   "source": [
    "Totalstart_station_id = pd.read_sql_query(\"SELECT bike_id ,count(DISTINCT(start_station_id)) as Totalstart_station_id FROM Trip group by bike_id order by Totalstart_station_id limit 3\",conn)\n",
    "HTML(Totalstart_station_id.to_html(index=False))"
   ]
  },
  {
   "cell_type": "code",
   "execution_count": 94,
   "id": "ed0f0f17",
   "metadata": {},
   "outputs": [
    {
     "data": {
      "text/html": [
       "<table border=\"1\" class=\"dataframe\">\n",
       "  <thead>\n",
       "    <tr style=\"text-align: right;\">\n",
       "      <th>start_station_id</th>\n",
       "      <th>Totalbikeid</th>\n",
       "    </tr>\n",
       "  </thead>\n",
       "  <tbody>\n",
       "    <tr>\n",
       "      <td>24</td>\n",
       "      <td>109</td>\n",
       "    </tr>\n",
       "    <tr>\n",
       "      <td>23</td>\n",
       "      <td>116</td>\n",
       "    </tr>\n",
       "    <tr>\n",
       "      <td>21</td>\n",
       "      <td>119</td>\n",
       "    </tr>\n",
       "  </tbody>\n",
       "</table>"
      ],
      "text/plain": [
       "<IPython.core.display.HTML object>"
      ]
     },
     "execution_count": 94,
     "metadata": {},
     "output_type": "execute_result"
    }
   ],
   "source": [
    "Totalbikeid = pd.read_sql_query(\"SELECT start_station_id ,COUNT(DISTINCT(bike_id)) as Totalbikeid FROM Trip group by start_station_id order by Totalbikeid limit 3\",conn)\n",
    "HTML(Totalbikeid.to_html(index=False))"
   ]
  },
  {
   "cell_type": "markdown",
   "id": "863c6fc4",
   "metadata": {},
   "source": [
    "### Question 3.2 pincode (Weather table) and station location (latitude and longitude in Station table)\n",
    "\n",
    "### Answer: There is no Relationship between Weather table & (latitude and longitude in Station table) since there are no common columns between them (No foreign key relationship)"
   ]
  },
  {
   "cell_type": "markdown",
   "id": "7cf51656",
   "metadata": {},
   "source": [
    "### Question 3.3 8/29/2013 (date column in Weather table) and mean wind speed (Weather table)\n",
    "\n",
    "### Answer: 8/29/2013 in date column has 5 mean wind speed (as seen below), hence one date (8/29/2013) has many mean wind speed resulting in one to many relationship. But note that even one mean speed has many dates, hence overall the relationship between Date column and mean wind column is many to many but if we pick one specific date such as (8/29/2013) this is one to many (mean wind speed) relationship"
   ]
  },
  {
   "cell_type": "code",
   "execution_count": 118,
   "id": "5aabbf58",
   "metadata": {},
   "outputs": [
    {
     "data": {
      "text/html": [
       "<table border=\"1\" class=\"dataframe\">\n",
       "  <thead>\n",
       "    <tr style=\"text-align: right;\">\n",
       "      <th>date</th>\n",
       "      <th>meanspeed</th>\n",
       "    </tr>\n",
       "  </thead>\n",
       "  <tbody>\n",
       "    <tr>\n",
       "      <td>8/29/2013</td>\n",
       "      <td>11.0</td>\n",
       "    </tr>\n",
       "    <tr>\n",
       "      <td>8/29/2013</td>\n",
       "      <td>6.0</td>\n",
       "    </tr>\n",
       "    <tr>\n",
       "      <td>8/29/2013</td>\n",
       "      <td>8.0</td>\n",
       "    </tr>\n",
       "    <tr>\n",
       "      <td>8/29/2013</td>\n",
       "      <td>5.0</td>\n",
       "    </tr>\n",
       "    <tr>\n",
       "      <td>8/29/2013</td>\n",
       "      <td>7.0</td>\n",
       "    </tr>\n",
       "  </tbody>\n",
       "</table>"
      ],
      "text/plain": [
       "<IPython.core.display.HTML object>"
      ]
     },
     "execution_count": 118,
     "metadata": {},
     "output_type": "execute_result"
    }
   ],
   "source": [
    "mean_speed = pd.read_sql_query(\"SELECT date ,mean_wind_speed_mph as meanspeed FROM Weather where date = '8/29/2013'\",conn)\n",
    "HTML(mean_speed.to_html(index=False))"
   ]
  },
  {
   "cell_type": "markdown",
   "id": "98e57603",
   "metadata": {},
   "source": [
    "## Question 4: Find the first and the last trip in the data"
   ]
  },
  {
   "cell_type": "code",
   "execution_count": 96,
   "id": "2a0d2904",
   "metadata": {},
   "outputs": [
    {
     "data": {
      "text/html": [
       "<table border=\"1\" class=\"dataframe\">\n",
       "  <thead>\n",
       "    <tr style=\"text-align: right;\">\n",
       "      <th>id</th>\n",
       "      <th>duration</th>\n",
       "      <th>start_date</th>\n",
       "      <th>start_station_name</th>\n",
       "      <th>start_station_id</th>\n",
       "      <th>end_date</th>\n",
       "      <th>end_station_name</th>\n",
       "      <th>end_station_id</th>\n",
       "      <th>bike_id</th>\n",
       "      <th>subscription_type</th>\n",
       "      <th>zip_code</th>\n",
       "    </tr>\n",
       "  </thead>\n",
       "  <tbody>\n",
       "    <tr>\n",
       "      <td>4069</td>\n",
       "      <td>174</td>\n",
       "      <td>8/29/2013 9:08</td>\n",
       "      <td>2nd at South Park</td>\n",
       "      <td>64</td>\n",
       "      <td>8/29/2013 9:11</td>\n",
       "      <td>2nd at South Park</td>\n",
       "      <td>64</td>\n",
       "      <td>288</td>\n",
       "      <td>Subscriber</td>\n",
       "      <td>94114</td>\n",
       "    </tr>\n",
       "  </tbody>\n",
       "</table>"
      ],
      "text/plain": [
       "<IPython.core.display.HTML object>"
      ]
     },
     "execution_count": 96,
     "metadata": {},
     "output_type": "execute_result"
    }
   ],
   "source": [
    "#First Trip\n",
    "first_trip = pd.read_sql_query(\"SELECT * FROM Trip order by id limit 1\",conn)\n",
    "HTML(first_trip.to_html(index=False))"
   ]
  },
  {
   "cell_type": "code",
   "execution_count": 97,
   "id": "98840c50",
   "metadata": {},
   "outputs": [
    {
     "data": {
      "text/html": [
       "<table border=\"1\" class=\"dataframe\">\n",
       "  <thead>\n",
       "    <tr style=\"text-align: right;\">\n",
       "      <th>id</th>\n",
       "      <th>duration</th>\n",
       "      <th>start_date</th>\n",
       "      <th>start_station_name</th>\n",
       "      <th>start_station_id</th>\n",
       "      <th>end_date</th>\n",
       "      <th>end_station_name</th>\n",
       "      <th>end_station_id</th>\n",
       "      <th>bike_id</th>\n",
       "      <th>subscription_type</th>\n",
       "      <th>zip_code</th>\n",
       "    </tr>\n",
       "  </thead>\n",
       "  <tbody>\n",
       "    <tr>\n",
       "      <td>913460</td>\n",
       "      <td>765</td>\n",
       "      <td>8/31/2015 23:26</td>\n",
       "      <td>Harry Bridges Plaza (Ferry Building)</td>\n",
       "      <td>50</td>\n",
       "      <td>8/31/2015 23:39</td>\n",
       "      <td>San Francisco Caltrain (Townsend at 4th)</td>\n",
       "      <td>70</td>\n",
       "      <td>288</td>\n",
       "      <td>Subscriber</td>\n",
       "      <td>2139</td>\n",
       "    </tr>\n",
       "  </tbody>\n",
       "</table>"
      ],
      "text/plain": [
       "<IPython.core.display.HTML object>"
      ]
     },
     "execution_count": 97,
     "metadata": {},
     "output_type": "execute_result"
    }
   ],
   "source": [
    "#last Trip\n",
    "last_trip = pd.read_sql_query(\"SELECT * FROM Trip order by id desc limit 1\",conn)\n",
    "HTML(last_trip.to_html(index=False))"
   ]
  },
  {
   "cell_type": "markdown",
   "id": "cee2efaf",
   "metadata": {},
   "source": [
    "## Question 5: What is the average duration"
   ]
  },
  {
   "cell_type": "markdown",
   "id": "6d497f05",
   "metadata": {},
   "source": [
    "## Of all the trips?"
   ]
  },
  {
   "cell_type": "code",
   "execution_count": 131,
   "id": "3edb5d80",
   "metadata": {},
   "outputs": [
    {
     "data": {
      "text/html": [
       "<table border=\"1\" class=\"dataframe\">\n",
       "  <thead>\n",
       "    <tr style=\"text-align: right;\">\n",
       "      <th>Average_Duration_of_allTrips</th>\n",
       "    </tr>\n",
       "  </thead>\n",
       "  <tbody>\n",
       "    <tr>\n",
       "      <td>1108.0</td>\n",
       "    </tr>\n",
       "  </tbody>\n",
       "</table>"
      ],
      "text/plain": [
       "<IPython.core.display.HTML object>"
      ]
     },
     "execution_count": 131,
     "metadata": {},
     "output_type": "execute_result"
    }
   ],
   "source": [
    "# Average Duration of all trips\n",
    "Average_DurationAlltrip = pd.read_sql_query(\"SELECT round(avg(duration)) as Average_Duration_of_allTrips FROM Trip\",conn)\n",
    "HTML(Average_DurationAlltrip.to_html(index=False))"
   ]
  },
  {
   "cell_type": "markdown",
   "id": "f7258b05",
   "metadata": {},
   "source": [
    "## Of trips on which customers are ending their rides at the same station from where they started?"
   ]
  },
  {
   "cell_type": "code",
   "execution_count": 134,
   "id": "9af36353",
   "metadata": {},
   "outputs": [
    {
     "data": {
      "text/html": [
       "<table border=\"1\" class=\"dataframe\">\n",
       "  <thead>\n",
       "    <tr style=\"text-align: right;\">\n",
       "      <th>AvgDuration_sametoFroLocation</th>\n",
       "    </tr>\n",
       "  </thead>\n",
       "  <tbody>\n",
       "    <tr>\n",
       "      <td>6357.0</td>\n",
       "    </tr>\n",
       "  </tbody>\n",
       "</table>"
      ],
      "text/plain": [
       "<IPython.core.display.HTML object>"
      ]
     },
     "execution_count": 134,
     "metadata": {},
     "output_type": "execute_result"
    }
   ],
   "source": [
    "# Average Duration of all trips with same start and end location\n",
    "AvgDuration_Location = pd.read_sql_query(\"SELECT round(avg(duration)) as AvgDuration_sametoFroLocation FROM Trip where start_station_name = end_station_name\",conn)\n",
    "HTML(AvgDuration_Location.to_html(index=False))"
   ]
  },
  {
   "cell_type": "markdown",
   "id": "0ee35775",
   "metadata": {},
   "source": [
    "## Question 6: Which bike has been used the most in terms of duration? (Answer with the Bike ID)"
   ]
  },
  {
   "cell_type": "code",
   "execution_count": 103,
   "id": "44263f68",
   "metadata": {},
   "outputs": [
    {
     "data": {
      "text/html": [
       "<table border=\"1\" class=\"dataframe\">\n",
       "  <thead>\n",
       "    <tr style=\"text-align: right;\">\n",
       "      <th>bike_id</th>\n",
       "      <th>Total_duration</th>\n",
       "    </tr>\n",
       "  </thead>\n",
       "  <tbody>\n",
       "    <tr>\n",
       "      <td>535</td>\n",
       "      <td>18611693</td>\n",
       "    </tr>\n",
       "  </tbody>\n",
       "</table>"
      ],
      "text/plain": [
       "<IPython.core.display.HTML object>"
      ]
     },
     "execution_count": 103,
     "metadata": {},
     "output_type": "execute_result"
    }
   ],
   "source": [
    "# Will find sum of duration for each bike (group by bike_id) and then order by sum duration desc\n",
    "most_usedBike = pd.read_sql_query(\"SELECT bike_id ,sum(duration) as Total_duration FROM Trip group by bike_id order by Total_duration desc limit 1\",conn)\n",
    "HTML(most_usedBike.to_html(index=False))"
   ]
  },
  {
   "cell_type": "markdown",
   "id": "9dcc780e",
   "metadata": {},
   "source": [
    "## Question 7.1 ,7.2 & 7.3\n",
    "\n",
    "### Please refer Tableau file shared"
   ]
  },
  {
   "cell_type": "markdown",
   "id": "4c5bba72",
   "metadata": {},
   "source": [
    "# Task 2: Demand Prediction"
   ]
  },
  {
   "cell_type": "markdown",
   "id": "47764ebc",
   "metadata": {},
   "source": [
    "### Zulip is running under a loss and has decided to shut operations for three of its stations. You have to use the data provided to help Zulip decide which three stations should be shut."
   ]
  },
  {
   "cell_type": "markdown",
   "id": "b7f6bfda",
   "metadata": {},
   "source": [
    "## Question-1: What are the top 10 least popular stations? Hint: Find the least frequently appearing start stations from the Trip table"
   ]
  },
  {
   "cell_type": "code",
   "execution_count": 212,
   "id": "b91fbde2",
   "metadata": {},
   "outputs": [
    {
     "data": {
      "text/html": [
       "<table border=\"1\" class=\"dataframe\">\n",
       "  <thead>\n",
       "    <tr style=\"text-align: right;\">\n",
       "      <th>start_station_name</th>\n",
       "      <th>leastUsed_start_station_name</th>\n",
       "    </tr>\n",
       "  </thead>\n",
       "  <tbody>\n",
       "    <tr>\n",
       "      <td>San Jose Government Center</td>\n",
       "      <td>23</td>\n",
       "    </tr>\n",
       "    <tr>\n",
       "      <td>Broadway at Main</td>\n",
       "      <td>67</td>\n",
       "    </tr>\n",
       "    <tr>\n",
       "      <td>Redwood City Public Library</td>\n",
       "      <td>213</td>\n",
       "    </tr>\n",
       "    <tr>\n",
       "      <td>Franklin at Maple</td>\n",
       "      <td>224</td>\n",
       "    </tr>\n",
       "    <tr>\n",
       "      <td>San Mateo County Center</td>\n",
       "      <td>287</td>\n",
       "    </tr>\n",
       "    <tr>\n",
       "      <td>Redwood City Medical Center</td>\n",
       "      <td>311</td>\n",
       "    </tr>\n",
       "    <tr>\n",
       "      <td>Mezes Park</td>\n",
       "      <td>341</td>\n",
       "    </tr>\n",
       "    <tr>\n",
       "      <td>Stanford in Redwood City</td>\n",
       "      <td>436</td>\n",
       "    </tr>\n",
       "    <tr>\n",
       "      <td>Park at Olive</td>\n",
       "      <td>750</td>\n",
       "    </tr>\n",
       "    <tr>\n",
       "      <td>Santa Clara County Civic Center</td>\n",
       "      <td>840</td>\n",
       "    </tr>\n",
       "  </tbody>\n",
       "</table>"
      ],
      "text/plain": [
       "<IPython.core.display.HTML object>"
      ]
     },
     "execution_count": 212,
     "metadata": {},
     "output_type": "execute_result"
    }
   ],
   "source": [
    "Ten_leastpopular = pd.read_sql_query(\"SELECT start_station_name ,Count(start_station_name) as leastUsed_start_station_name from Trip group by start_station_name order by leastUsed_start_station_name asc limit 10 \",conn)\n",
    "HTML(Ten_leastpopular.to_html(index=False))"
   ]
  },
  {
   "cell_type": "markdown",
   "id": "df9b5ea4",
   "metadata": {},
   "source": [
    "## Questin-2: Idle time is the duration for which a station remains inactive. You can consider this as the time for which a station has more than 3 bikes available.\n",
    "\n",
    "### Find the idle time for Station 2 on 29 July, 2018"
   ]
  },
  {
   "cell_type": "code",
   "execution_count": 183,
   "id": "2b07624d",
   "metadata": {},
   "outputs": [
    {
     "data": {
      "text/html": [
       "<table border=\"1\" class=\"dataframe\">\n",
       "  <thead>\n",
       "    <tr style=\"text-align: right;\">\n",
       "      <th>idle_time</th>\n",
       "      <th>bikes_available</th>\n",
       "    </tr>\n",
       "  </thead>\n",
       "  <tbody>\n",
       "  </tbody>\n",
       "</table>"
      ],
      "text/plain": [
       "<IPython.core.display.HTML object>"
      ]
     },
     "execution_count": 183,
     "metadata": {},
     "output_type": "execute_result"
    }
   ],
   "source": [
    "# Below shows the top 10 idle time for station 2\n",
    "idleTime_Station2 = pd.read_sql_query(\"SELECT time as idle_time , bikes_available from Status where station_id = 2 and bikes_available > 3 and idle_time like '2018/07/29%'\",conn)\n",
    "HTML(idleTime_Station2.to_html(index=False))"
   ]
  },
  {
   "attachments": {},
   "cell_type": "markdown",
   "id": "a97b9f7e",
   "metadata": {},
   "source": [
    "## Question-2 : In case two stations are nearby, it might be possible to shut one down. Find the distance between consecutive stations (between Stations 1 and 2, Stations 2 and 3, and so on) Using Haversine formula "
   ]
  },
  {
   "cell_type": "markdown",
   "id": "5438b294",
   "metadata": {},
   "source": [
    "## Answer for this question alone please refer the .sql file shared along withe assignment. since sqllite3 does not support trignometric function had to go with mysql workbench"
   ]
  },
  {
   "cell_type": "markdown",
   "id": "80e6c1ec",
   "metadata": {},
   "source": [
    "## Following is what was approach for this problem,\n",
    "### Created a table using cross join and then applied the formula to check minimum distance\n",
    "\n",
    "### below are quries(you will find the same in .sql file)\n",
    "create table cross_j (\n",
    "SELECT a.station_name station_a, \n",
    "b.station_name station_b, a.latitude station_a_lat, b.latitude station_b_lat,a.longitude station_a_long,b.longitude station_b_long \n",
    "FROM station AS a CROSS JOIN station AS b where a.station_name!=b.station_name\n",
    ");\n",
    "\n",
    "SELECT station_a,station_b,2 * 3961 * asin(sqrt(power((sin(radians((station_b_lat - station_a_lat) / 2))), 2) + cos(radians(station_a_lat)) * cos(radians(station_b_lat)) * power((sin(radians((station_b_long - station_a_long) / 2))), 2))) as distance\n",
    "from cross_j order by distance;"
   ]
  },
  {
   "cell_type": "markdown",
   "id": "4fe6516e",
   "metadata": {},
   "source": [
    "##  Question 4 : three stations that can be shut"
   ]
  },
  {
   "cell_type": "markdown",
   "id": "e35ec049",
   "metadata": {},
   "source": [
    "#### From the above results of most closest and Question-1 top 10 least popular stations\n",
    "##### we see that\n",
    "##### 'Redwood City Public Library' and'Franklin at Maple' are very close as well as not so popular \n",
    "##### 'Franklin at Maple' and 'San Mateo County Center' are very close as well as not so popular\n",
    "##### 'Redwood City Public Library'and 'San Mateo County Center'are very close as well as not so popular\n",
    "##### we can recommend Stations to be shutdown are,\n",
    "1. Redwood City Public Library\n",
    "2. Franklin at Maple\n",
    "3. San Mateo County Center\n",
    "\n"
   ]
  },
  {
   "cell_type": "markdown",
   "id": "08cae1b9",
   "metadata": {},
   "source": [
    "# Task 3: Optimizing Operations"
   ]
  },
  {
   "cell_type": "markdown",
   "id": "10dbf2fa",
   "metadata": {},
   "source": [
    "## Question-1: Calculate the average number of bikes and docks available for Station 2 and Station 3 (Hint: Use the Status table.)"
   ]
  },
  {
   "cell_type": "code",
   "execution_count": 143,
   "id": "644b1fa9",
   "metadata": {},
   "outputs": [
    {
     "data": {
      "text/html": [
       "<table border=\"1\" class=\"dataframe\">\n",
       "  <thead>\n",
       "    <tr style=\"text-align: right;\">\n",
       "      <th>station_id</th>\n",
       "      <th>avg_bikes_available</th>\n",
       "      <th>avg_docks_available</th>\n",
       "    </tr>\n",
       "  </thead>\n",
       "  <tbody>\n",
       "    <tr>\n",
       "      <td>2</td>\n",
       "      <td>13.0</td>\n",
       "      <td>14.0</td>\n",
       "    </tr>\n",
       "    <tr>\n",
       "      <td>3</td>\n",
       "      <td>8.0</td>\n",
       "      <td>7.0</td>\n",
       "    </tr>\n",
       "  </tbody>\n",
       "</table>"
      ],
      "text/plain": [
       "<IPython.core.display.HTML object>"
      ]
     },
     "execution_count": 143,
     "metadata": {},
     "output_type": "execute_result"
    }
   ],
   "source": [
    "avg_num = pd.read_sql_query(\"SELECT station_id ,round(avg(bikes_available)) as avg_bikes_available, round(avg(docks_available)) as avg_docks_available FROM Status where station_id in (2,3) group by station_id\",conn)\n",
    "HTML(avg_num.to_html(index=False))"
   ]
  },
  {
   "cell_type": "markdown",
   "id": "f6c0ab80",
   "metadata": {},
   "source": [
    "## Question 2 & 3\n",
    "\n",
    "### Please refer Tableau file shared"
   ]
  },
  {
   "cell_type": "markdown",
   "id": "7c136437",
   "metadata": {},
   "source": [
    "## Question 4: Use the findings above to provide insights on how to optimize operations"
   ]
  },
  {
   "cell_type": "markdown",
   "id": "972b7ebb",
   "metadata": {},
   "source": [
    "### Answer: \n",
    "### From the above finding we could see which are the most popular areas and also through tableau map for customer & subscriber, we could see how popularity varies. To optimize and more profits we could increase the avg available bikes at most popular areas one such example is id = 70 (San Francisco Caltrain (Townsend at 4th)) in station table, this station is one of the most popular amoung subscribers, at this station we can increase avg available bikes"
   ]
  },
  {
   "cell_type": "markdown",
   "id": "7da4a3ef",
   "metadata": {},
   "source": [
    "# Task 4: Couple Bikes? (Bonus)"
   ]
  },
  {
   "cell_type": "markdown",
   "id": "ff0b3731",
   "metadata": {},
   "source": [
    "### Zulip has decided to start a new product line called Couple Bikes. This will enable two persons to travel from one station to another at the same time. What are some of the factors that you will have to consider while validating the idea of couple bikes?"
   ]
  },
  {
   "cell_type": "markdown",
   "id": "bb17e89f",
   "metadata": {},
   "source": [
    "### factors to consider for validating the possibilty of couple bike are,\n",
    "#### 1. If Start Station Name and End Station Name are same \n",
    "#### 2. Target the most popular areas as these areas will mostly be from where working professionals, students etc will travel.\n",
    "#### 3. Cost when 2 person travelling in single bike must be less than the cost that 2 individual bikes would have cost\n",
    "#### 4. Least Most popular areas where we must avoide couple bike implementation"
   ]
  },
  {
   "cell_type": "markdown",
   "id": "22d819ab",
   "metadata": {},
   "source": [
    "## Lets discussion all 3 Factors one by one....................."
   ]
  },
  {
   "cell_type": "markdown",
   "id": "7e059c0b",
   "metadata": {},
   "source": [
    "### Factor -1 : If Start Station Name and End Station Name are same"
   ]
  },
  {
   "cell_type": "markdown",
   "id": "5b6d2c21",
   "metadata": {},
   "source": [
    "#### Traget above areas which had same start and end location these area had total 9,68,09,91,556 trips out of 3,08,43,70,70,970 trips in 3 years that is around 3 % of trips with same start and end location"
   ]
  },
  {
   "cell_type": "code",
   "execution_count": 137,
   "id": "9156a4a1",
   "metadata": {},
   "outputs": [
    {
     "data": {
      "text/html": [
       "<table border=\"1\" class=\"dataframe\">\n",
       "  <thead>\n",
       "    <tr style=\"text-align: right;\">\n",
       "      <th>start_station_name</th>\n",
       "    </tr>\n",
       "  </thead>\n",
       "  <tbody>\n",
       "    <tr>\n",
       "      <td>2nd at Folsom</td>\n",
       "    </tr>\n",
       "    <tr>\n",
       "      <td>2nd at South Park</td>\n",
       "    </tr>\n",
       "    <tr>\n",
       "      <td>2nd at Townsend</td>\n",
       "    </tr>\n",
       "    <tr>\n",
       "      <td>5th at Howard</td>\n",
       "    </tr>\n",
       "    <tr>\n",
       "      <td>Adobe on Almaden</td>\n",
       "    </tr>\n",
       "    <tr>\n",
       "      <td>Arena Green / SAP Center</td>\n",
       "    </tr>\n",
       "    <tr>\n",
       "      <td>Beale at Market</td>\n",
       "    </tr>\n",
       "    <tr>\n",
       "      <td>Broadway St at Battery St</td>\n",
       "    </tr>\n",
       "    <tr>\n",
       "      <td>Broadway at Main</td>\n",
       "    </tr>\n",
       "    <tr>\n",
       "      <td>California Ave Caltrain Station</td>\n",
       "    </tr>\n",
       "    <tr>\n",
       "      <td>Castro Street and El Camino Real</td>\n",
       "    </tr>\n",
       "    <tr>\n",
       "      <td>Civic Center BART (7th at Market)</td>\n",
       "    </tr>\n",
       "    <tr>\n",
       "      <td>Clay at Battery</td>\n",
       "    </tr>\n",
       "    <tr>\n",
       "      <td>Commercial at Montgomery</td>\n",
       "    </tr>\n",
       "    <tr>\n",
       "      <td>Cowper at University</td>\n",
       "    </tr>\n",
       "    <tr>\n",
       "      <td>Davis at Jackson</td>\n",
       "    </tr>\n",
       "    <tr>\n",
       "      <td>Embarcadero at Bryant</td>\n",
       "    </tr>\n",
       "    <tr>\n",
       "      <td>Embarcadero at Folsom</td>\n",
       "    </tr>\n",
       "    <tr>\n",
       "      <td>Embarcadero at Sansome</td>\n",
       "    </tr>\n",
       "    <tr>\n",
       "      <td>Embarcadero at Vallejo</td>\n",
       "    </tr>\n",
       "    <tr>\n",
       "      <td>Evelyn Park and Ride</td>\n",
       "    </tr>\n",
       "    <tr>\n",
       "      <td>Franklin at Maple</td>\n",
       "    </tr>\n",
       "    <tr>\n",
       "      <td>Golden Gate at Polk</td>\n",
       "    </tr>\n",
       "    <tr>\n",
       "      <td>Grant Avenue at Columbus Avenue</td>\n",
       "    </tr>\n",
       "    <tr>\n",
       "      <td>Harry Bridges Plaza (Ferry Building)</td>\n",
       "    </tr>\n",
       "    <tr>\n",
       "      <td>Howard at 2nd</td>\n",
       "    </tr>\n",
       "    <tr>\n",
       "      <td>Japantown</td>\n",
       "    </tr>\n",
       "    <tr>\n",
       "      <td>MLK Library</td>\n",
       "    </tr>\n",
       "    <tr>\n",
       "      <td>Market at 10th</td>\n",
       "    </tr>\n",
       "    <tr>\n",
       "      <td>Market at 4th</td>\n",
       "    </tr>\n",
       "    <tr>\n",
       "      <td>Market at Sansome</td>\n",
       "    </tr>\n",
       "    <tr>\n",
       "      <td>Mechanics Plaza (Market at Battery)</td>\n",
       "    </tr>\n",
       "    <tr>\n",
       "      <td>Mezes Park</td>\n",
       "    </tr>\n",
       "    <tr>\n",
       "      <td>Mountain View Caltrain Station</td>\n",
       "    </tr>\n",
       "    <tr>\n",
       "      <td>Mountain View City Hall</td>\n",
       "    </tr>\n",
       "    <tr>\n",
       "      <td>Palo Alto Caltrain Station</td>\n",
       "    </tr>\n",
       "    <tr>\n",
       "      <td>Park at Olive</td>\n",
       "    </tr>\n",
       "    <tr>\n",
       "      <td>Paseo de San Antonio</td>\n",
       "    </tr>\n",
       "    <tr>\n",
       "      <td>Post at Kearney</td>\n",
       "    </tr>\n",
       "    <tr>\n",
       "      <td>Post at Kearny</td>\n",
       "    </tr>\n",
       "    <tr>\n",
       "      <td>Powell Street BART</td>\n",
       "    </tr>\n",
       "    <tr>\n",
       "      <td>Powell at Post (Union Square)</td>\n",
       "    </tr>\n",
       "    <tr>\n",
       "      <td>Redwood City Caltrain Station</td>\n",
       "    </tr>\n",
       "    <tr>\n",
       "      <td>Redwood City Medical Center</td>\n",
       "    </tr>\n",
       "    <tr>\n",
       "      <td>Redwood City Public Library</td>\n",
       "    </tr>\n",
       "    <tr>\n",
       "      <td>Rengstorff Avenue / California Street</td>\n",
       "    </tr>\n",
       "    <tr>\n",
       "      <td>Ryland Park</td>\n",
       "    </tr>\n",
       "    <tr>\n",
       "      <td>SJSU - San Salvador at 9th</td>\n",
       "    </tr>\n",
       "    <tr>\n",
       "      <td>SJSU 4th at San Carlos</td>\n",
       "    </tr>\n",
       "    <tr>\n",
       "      <td>San Antonio Caltrain Station</td>\n",
       "    </tr>\n",
       "    <tr>\n",
       "      <td>San Antonio Shopping Center</td>\n",
       "    </tr>\n",
       "    <tr>\n",
       "      <td>San Francisco Caltrain (Townsend at 4th)</td>\n",
       "    </tr>\n",
       "    <tr>\n",
       "      <td>San Francisco Caltrain 2 (330 Townsend)</td>\n",
       "    </tr>\n",
       "    <tr>\n",
       "      <td>San Francisco City Hall</td>\n",
       "    </tr>\n",
       "    <tr>\n",
       "      <td>San Jose City Hall</td>\n",
       "    </tr>\n",
       "    <tr>\n",
       "      <td>San Jose Civic Center</td>\n",
       "    </tr>\n",
       "    <tr>\n",
       "      <td>San Jose Diridon Caltrain Station</td>\n",
       "    </tr>\n",
       "    <tr>\n",
       "      <td>San Mateo County Center</td>\n",
       "    </tr>\n",
       "    <tr>\n",
       "      <td>San Pedro Square</td>\n",
       "    </tr>\n",
       "    <tr>\n",
       "      <td>San Salvador at 1st</td>\n",
       "    </tr>\n",
       "    <tr>\n",
       "      <td>Santa Clara County Civic Center</td>\n",
       "    </tr>\n",
       "    <tr>\n",
       "      <td>Santa Clara at Almaden</td>\n",
       "    </tr>\n",
       "    <tr>\n",
       "      <td>South Van Ness at Market</td>\n",
       "    </tr>\n",
       "    <tr>\n",
       "      <td>Spear at Folsom</td>\n",
       "    </tr>\n",
       "    <tr>\n",
       "      <td>St James Park</td>\n",
       "    </tr>\n",
       "    <tr>\n",
       "      <td>Stanford in Redwood City</td>\n",
       "    </tr>\n",
       "    <tr>\n",
       "      <td>Steuart at Market</td>\n",
       "    </tr>\n",
       "    <tr>\n",
       "      <td>Temporary Transbay Terminal (Howard at Beale)</td>\n",
       "    </tr>\n",
       "    <tr>\n",
       "      <td>Townsend at 7th</td>\n",
       "    </tr>\n",
       "    <tr>\n",
       "      <td>University and Emerson</td>\n",
       "    </tr>\n",
       "    <tr>\n",
       "      <td>Washington at Kearney</td>\n",
       "    </tr>\n",
       "    <tr>\n",
       "      <td>Washington at Kearny</td>\n",
       "    </tr>\n",
       "    <tr>\n",
       "      <td>Yerba Buena Center of the Arts (3rd @ Howard)</td>\n",
       "    </tr>\n",
       "  </tbody>\n",
       "</table>"
      ],
      "text/plain": [
       "<IPython.core.display.HTML object>"
      ]
     },
     "execution_count": 137,
     "metadata": {},
     "output_type": "execute_result"
    }
   ],
   "source": [
    "sameLocation = pd.read_sql_query(\"SELECT start_station_name FROM Trip where start_station_name = end_station_name group by start_station_name\",conn)\n",
    "HTML(sameLocation.to_html(index=False))"
   ]
  },
  {
   "cell_type": "code",
   "execution_count": 141,
   "id": "15ec077c",
   "metadata": {},
   "outputs": [
    {
     "data": {
      "text/html": [
       "<table border=\"1\" class=\"dataframe\">\n",
       "  <thead>\n",
       "    <tr style=\"text-align: right;\">\n",
       "      <th>total_trips</th>\n",
       "    </tr>\n",
       "  </thead>\n",
       "  <tbody>\n",
       "    <tr>\n",
       "      <td>9680991556</td>\n",
       "    </tr>\n",
       "  </tbody>\n",
       "</table>"
      ],
      "text/plain": [
       "<IPython.core.display.HTML object>"
      ]
     },
     "execution_count": 141,
     "metadata": {},
     "output_type": "execute_result"
    }
   ],
   "source": [
    "# All trips with same start and end location\n",
    "AvgDuration_Location = pd.read_sql_query(\"SELECT sum(id) as total_trips FROM Trip where start_station_name = end_station_name \",conn)\n",
    "HTML(AvgDuration_Location.to_html(index=False))"
   ]
  },
  {
   "cell_type": "markdown",
   "id": "58124f91",
   "metadata": {},
   "source": [
    "### Factor-2 : Target the most popular area as these area will mostly be from where working professionals, students etc will travel"
   ]
  },
  {
   "cell_type": "markdown",
   "id": "2c1b386e",
   "metadata": {},
   "source": [
    "#### Traget Areas such as,\n",
    "#### 1. College/University from nearest metro stations\n",
    "#### These are the areas which will have same start and end between college/university to metro vice versa.\n",
    "#### 2. IT Tech parks / Hospitals / Major Bank Branches to nearest Metro Stations\n",
    "#### These area are also those can be busy 24 hrs as they function 24hrs due to there work culture and since crowed travelling to & fro from metro stations to these areas is more frequent, its one of the best location to tackle\n",
    "#### 3. Lastly Grocery/hypermart/Super market such as walmart to the nearest hosuing society/flats/apartment  residential areas\n",
    "#### These are very good location which will target all group of people, since it involve day to day basic shopping"
   ]
  },
  {
   "cell_type": "markdown",
   "id": "dcb1ba4d",
   "metadata": {},
   "source": [
    "### Factor - 3 :Cost when 2 person travelling in single bike must be less than the cost that 2 individual bikes would have cos"
   ]
  },
  {
   "cell_type": "markdown",
   "id": "73444ada",
   "metadata": {},
   "source": [
    "#### Cost for transportation is one of the main factors that every individual co least mpares while opting the best options available in public transport\n",
    "#### At the very least, an individual cost while in couple travel must be less than 25%. Beacuse this % shall give individual 25 % and Bike company will get 50%.\n",
    "#### Lets say P1 and P2 are two individual who are travelling same destination, in normal situation it will cost them X amount each respectively i.e. 2X in Total and lets also assume travel cost of bike for bike comapny also as 2X.\n",
    "#### Now if travelled in couple bike with 25% discount P1 and P2 Total cost would be 1.5X (0.75X each) and lets say travel cost of bike for bike comapny as X (assuming same amount from above for single bike), then we clearly see that profit for bike comapny also is 50%."
   ]
  },
  {
   "cell_type": "markdown",
   "id": "be5291da",
   "metadata": {},
   "source": [
    "### Note: Factor 2 & 3 cannot be completely accurated/validated since these are just formualted on based market needs that we all see day to day also the above data's does not contain any such column through which we can check Cost or specific locations related to metro stations/universities/Markets"
   ]
  },
  {
   "cell_type": "markdown",
   "id": "a92b8307",
   "metadata": {},
   "source": [
    "## Factor-4: Least most Popular area\n",
    "### We must avoide those regions/stations which are least used for example below are the 10 most least popular areas based on amount of trips that take place"
   ]
  },
  {
   "cell_type": "code",
   "execution_count": 144,
   "id": "682c7b17",
   "metadata": {},
   "outputs": [
    {
     "data": {
      "text/html": [
       "<table border=\"1\" class=\"dataframe\">\n",
       "  <thead>\n",
       "    <tr style=\"text-align: right;\">\n",
       "      <th>start_station_name</th>\n",
       "      <th>total_trips</th>\n",
       "    </tr>\n",
       "  </thead>\n",
       "  <tbody>\n",
       "    <tr>\n",
       "      <td>San Jose Government Center</td>\n",
       "      <td>23</td>\n",
       "    </tr>\n",
       "    <tr>\n",
       "      <td>Broadway at Main</td>\n",
       "      <td>67</td>\n",
       "    </tr>\n",
       "    <tr>\n",
       "      <td>Redwood City Public Library</td>\n",
       "      <td>213</td>\n",
       "    </tr>\n",
       "    <tr>\n",
       "      <td>Franklin at Maple</td>\n",
       "      <td>224</td>\n",
       "    </tr>\n",
       "    <tr>\n",
       "      <td>San Mateo County Center</td>\n",
       "      <td>287</td>\n",
       "    </tr>\n",
       "    <tr>\n",
       "      <td>Redwood City Medical Center</td>\n",
       "      <td>311</td>\n",
       "    </tr>\n",
       "    <tr>\n",
       "      <td>Mezes Park</td>\n",
       "      <td>341</td>\n",
       "    </tr>\n",
       "    <tr>\n",
       "      <td>Stanford in Redwood City</td>\n",
       "      <td>436</td>\n",
       "    </tr>\n",
       "    <tr>\n",
       "      <td>Park at Olive</td>\n",
       "      <td>750</td>\n",
       "    </tr>\n",
       "    <tr>\n",
       "      <td>Santa Clara County Civic Center</td>\n",
       "      <td>840</td>\n",
       "    </tr>\n",
       "  </tbody>\n",
       "</table>"
      ],
      "text/plain": [
       "<IPython.core.display.HTML object>"
      ]
     },
     "execution_count": 144,
     "metadata": {},
     "output_type": "execute_result"
    }
   ],
   "source": [
    "Ten_leastpopular = pd.read_sql_query(\"SELECT start_station_name ,Count(id) as total_trips from Trip group by start_station_name order by total_trips limit 10 \",conn)\n",
    "HTML(Ten_leastpopular.to_html(index=False))"
   ]
  },
  {
   "cell_type": "markdown",
   "id": "c2974ec2",
   "metadata": {},
   "source": [
    "## Conclusion:\n",
    "### Two main Params must be considered while deciding couple bikes idea,\n",
    "### 1st Location --- Which are the stations best fit and which are not based on the existing day to day trips data\n",
    "### 2nd Cost/Price point for customers such that we can get win-win situation"
   ]
  }
 ],
 "metadata": {
  "kernelspec": {
   "display_name": "Python 3",
   "language": "python",
   "name": "python3"
  },
  "language_info": {
   "codemirror_mode": {
    "name": "ipython",
    "version": 3
   },
   "file_extension": ".py",
   "mimetype": "text/x-python",
   "name": "python",
   "nbconvert_exporter": "python",
   "pygments_lexer": "ipython3",
   "version": "3.8.8"
  }
 },
 "nbformat": 4,
 "nbformat_minor": 5
}
